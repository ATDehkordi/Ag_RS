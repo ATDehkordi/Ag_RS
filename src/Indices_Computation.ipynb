{
  "nbformat": 4,
  "nbformat_minor": 0,
  "metadata": {
    "colab": {
      "name": "Indices Computation.ipynb",
      "provenance": [],
      "collapsed_sections": []
    },
    "kernelspec": {
      "name": "python3",
      "display_name": "Python 3"
    },
    "language_info": {
      "name": "python"
    }
  },
  "cells": [
    {
      "cell_type": "code",
      "execution_count": null,
      "metadata": {
        "id": "AXeGbFrLVyTN"
      },
      "outputs": [],
      "source": [
        "#dir(dataset)\n",
        "dataset = gdal.Open(filenames[0])\n",
        "img_width,img_height=dataset.RasterXSize,dataset.RasterYSize\n",
        "dataset.GetGeoTransform()\n",
        "dataset.GetProjection()"
      ]
    },
    {
      "cell_type": "code",
      "source": [
        "BLUE = dataset.GetRasterBand(1).ReadAsArray().astype(float)\n",
        "GREEN = dataset.GetRasterBand(2).ReadAsArray().astype(float)\n",
        "RED = dataset.GetRasterBand(3).ReadAsArray().astype(float)\n",
        "RE1 = dataset.GetRasterBand(4).ReadAsArray().astype(float)\n",
        "RE2 = dataset.GetRasterBand(5).ReadAsArray().astype(float)\n",
        "RE3 = dataset.GetRasterBand(6).ReadAsArray().astype(float)\n",
        "NIR = dataset.GetRasterBand(7).ReadAsArray().astype(float)\n",
        "RE4 = dataset.GetRasterBand(8).ReadAsArray().astype(float)\n",
        "SWIR1 = dataset.GetRasterBand(10).ReadAsArray().astype(float)\n",
        "SWIR2 = dataset.GetRasterBand(11).ReadAsArray().astype(float)"
      ],
      "metadata": {
        "id": "5rzG2epyWAMs"
      },
      "execution_count": null,
      "outputs": []
    },
    {
      "cell_type": "code",
      "source": [
        "NDVI = (NIR - RED)/(NIR + RED)\n",
        "plt.imshow(NDVI)"
      ],
      "metadata": {
        "id": "e8gxxvkoWBs0"
      },
      "execution_count": null,
      "outputs": []
    },
    {
      "cell_type": "code",
      "source": [
        "np.max(NDVI)"
      ],
      "metadata": {
        "id": "d7ZAwYaMWDmK"
      },
      "execution_count": null,
      "outputs": []
    },
    {
      "cell_type": "code",
      "source": [
        "img_width,img_height=dataset.RasterXSize,dataset.RasterYSize\n",
        "dataset.GetGeoTransform()\n",
        "dataset.GetProjection()"
      ],
      "metadata": {
        "id": "Gy_vn-X7WFTL"
      },
      "execution_count": null,
      "outputs": []
    },
    {
      "cell_type": "code",
      "source": [
        "NDRE1 = (NIR - RE1)/(NIR + RE1)\n",
        "NDRE2 = (NIR - RE2)/(NIR + RE2)\n",
        "NDRE3 = (NIR - RE3)/(NIR + RE3)\n",
        "plt.imshow(NDRE2)"
      ],
      "metadata": {
        "id": "-wRYcfqPWG6c"
      },
      "execution_count": null,
      "outputs": []
    },
    {
      "cell_type": "code",
      "source": [
        "MSAVI = (2 * NIR + 1 - np.sqrt((2 * NIR + 1) ** 2 - 8 * (NIR - RED)))/2\n",
        "plt.imshow(MSAVI)"
      ],
      "metadata": {
        "id": "CMOYXQRzWIgy"
      },
      "execution_count": null,
      "outputs": []
    },
    {
      "cell_type": "code",
      "source": [
        "CCCI = ((NIR - RE1)/(NIR + RE1))/((NIR - RED)/(NIR + RED))\n",
        "plt.imshow(CCCI)"
      ],
      "metadata": {
        "id": "qw080cC5WJ6L"
      },
      "execution_count": null,
      "outputs": []
    },
    {
      "cell_type": "code",
      "source": [
        "dataset.RasterCount, dataset.RasterXSize, dataset.RasterYSize"
      ],
      "metadata": {
        "id": "k3D3lstaWMCb"
      },
      "execution_count": null,
      "outputs": []
    },
    {
      "cell_type": "code",
      "source": [
        "NDWI = (NIR - SWIR2)/(NIR + SWIR2)\n",
        "plt.imshow(NDWI)"
      ],
      "metadata": {
        "id": "_OEoWjUaWOBC"
      },
      "execution_count": null,
      "outputs": []
    }
  ]
}