{
  "nbformat": 4,
  "nbformat_minor": 0,
  "metadata": {
    "colab": {
      "name": "LAI computation.ipynb",
      "provenance": [],
      "collapsed_sections": []
    },
    "kernelspec": {
      "name": "python3",
      "display_name": "Python 3"
    },
    "language_info": {
      "name": "python"
    }
  },
  "cells": [
    {
      "cell_type": "code",
      "execution_count": null,
      "metadata": {
        "id": "dDAtwLK5UwAf"
      },
      "outputs": [],
      "source": [
        "from osgeo import gdal\n",
        "import matplotlib.pyplot as plt\n",
        "import sklearn\n",
        "import os\n",
        "import glob\n",
        "import numpy as np"
      ]
    },
    {
      "cell_type": "code",
      "source": [
        "filenames = glob.glob(\"/content/drive/Shareddrives/My Drive2/colab_agriculture/*.tif\")"
      ],
      "metadata": {
        "id": "N_4jWlDRVB58"
      },
      "execution_count": null,
      "outputs": []
    },
    {
      "cell_type": "code",
      "source": [
        "filenames"
      ],
      "metadata": {
        "id": "QseXPscRVDsa"
      },
      "execution_count": null,
      "outputs": []
    },
    {
      "cell_type": "code",
      "source": [
        "from xgboost import XGBRegressor\n",
        "model_xgb = XGBRegressor()\n",
        "model_xgb.load_model(\"/content/drive/Shareddrives/My Drive2/LAI_MODEL/LAI_model_no_angle .json\")"
      ],
      "metadata": {
        "id": "vXlgi4-4VFVc"
      },
      "execution_count": null,
      "outputs": []
    },
    {
      "cell_type": "code",
      "source": [
        "timeseries = []\n",
        "NDVI_DATA = []\n",
        "times = []\n",
        "for i in range(len(filenames)):\n",
        "  dataset = gdal.Open(filenames[i])\n",
        "  ATMOS =  dataset.GetRasterBand(1).ReadAsArray().astype(float)\n",
        "  BLUE = dataset.GetRasterBand(2).ReadAsArray().astype(float)\n",
        "  GREEN = dataset.GetRasterBand(3).ReadAsArray().astype(float)\n",
        "  RED = dataset.GetRasterBand(4).ReadAsArray().astype(float)\n",
        "  RE1 = dataset.GetRasterBand(5).ReadAsArray().astype(float)\n",
        "  RE2 = dataset.GetRasterBand(6).ReadAsArray().astype(float)\n",
        "  RE3 = dataset.GetRasterBand(7).ReadAsArray().astype(float)\n",
        "  NIR = dataset.GetRasterBand(8).ReadAsArray().astype(float)\n",
        "  RE4 = dataset.GetRasterBand(9).ReadAsArray().astype(float)\n",
        "  ATMOS2 = dataset.GetRasterBand(10).ReadAsArray().astype(float)\n",
        "  SWIR1 = dataset.GetRasterBand(11).ReadAsArray().astype(float)\n",
        "  SWIR2 = dataset.GetRasterBand(12).ReadAsArray().astype(float)\n",
        "  DATA_LAI = np.stack((ATMOS , BLUE , GREEN , RED , RE1 , RE2 , RE3 , NIR , RE4, ATMOS2 , SWIR1 , SWIR2 ) , axis =2)\n",
        "\n",
        "  DATA_LAI_reshaped = np.reshape(DATA_LAI , (DATA_LAI.shape[0]*DATA_LAI.shape[1],DATA_LAI.shape[2]))\n",
        "  id_nans = np.isinf(DATA_LAI_reshaped[:,0])\n",
        "  DATA_LAI_reshaped_nonans = DATA_LAI_reshaped[~id_nans, :] * 10000\n",
        "  LAI = model_xgb.predict(DATA_LAI_reshaped_nonans)\n",
        "  LAI = np.reshape(LAI , [LAI.shape[0],1])\n",
        "  FINAL_LAI = np.zeros([DATA_LAI_reshaped.shape[0],1])\n",
        "  FINAL_LAI[~id_nans] = LAI\n",
        "  FINAL_LAI = np.reshape(FINAL_LAI, (dataset.RasterYSize, dataset.RasterXSize))\n",
        "\n",
        "\n",
        "\n",
        "\n",
        "  NDVI = (NIR - RED)/(NIR + RED)\n",
        "  NDRE1 = (NIR - RE1)/(NIR + RE1)\n",
        "  NDRE2 = (NIR - RE2)/(NIR + RE2)\n",
        "  NDRE3 = (NIR - RE3)/(NIR + RE3)\n",
        "  MSAVI = (2 * NIR + 1 - np.sqrt((2 * NIR + 1) ** 2 - 8 * (NIR - RED)))/2\n",
        "  CCCI = ((NIR - RE1)/(NIR + RE1))/((NIR - RED)/(NIR + RED))\n",
        "  NDWI = (NIR - SWIR2)/(NIR + SWIR2)\n",
        "  times.append(filenames[i][56 : 64])\n",
        "  stackedindices = np.stack((NDVI , NDRE1 , NDRE2 , NDRE3 , MSAVI ,CCCI , NDWI) , axis = 2)\n",
        "  NDVI_DATA.append(NDVI)\n",
        "  timeseries.append(stackedindices)\n",
        "  # dataset.append(img)"
      ],
      "metadata": {
        "id": "3lbltW-hVHXr"
      },
      "execution_count": null,
      "outputs": []
    },
    {
      "cell_type": "code",
      "source": [
        "DATA_LAI = np.stack((ATMOS , BLUE , GREEN , RED , RE1 , RE2 , RE3 , NIR , RE4, ATMOS2 , SWIR1 , SWIR2 ) , axis =2)\n",
        "FINAL_LAI = np.zeros([dataset.RasterYSize* dataset.RasterXSize ,])\n",
        "DATA_LAI_reshaped = np.reshape(DATA_LAI , (DATA_LAI.shape[0]*DATA_LAI.shape[1],DATA_LAI.shape[2]))\n",
        "id_nans = np.isinf(DATA_LAI_reshaped[:,0])\n",
        "DATA_LAI_reshaped_nonans = DATA_LAI_reshaped[~id_nans, :]"
      ],
      "metadata": {
        "id": "9M1Jr8RDVJNz"
      },
      "execution_count": null,
      "outputs": []
    },
    {
      "cell_type": "code",
      "source": [
        "DATA_LAI_reshaped_nonans"
      ],
      "metadata": {
        "id": "uMruTpSNVK6L"
      },
      "execution_count": null,
      "outputs": []
    },
    {
      "cell_type": "code",
      "source": [
        "DATA_LAI_reshaped_nonans = DATA_LAI_reshaped_nonans * 10000"
      ],
      "metadata": {
        "id": "sd0VDmYQVMfr"
      },
      "execution_count": null,
      "outputs": []
    },
    {
      "cell_type": "code",
      "source": [
        "LAI = model_xgb.predict(DATA_LAI_reshaped_nonans)\n",
        "FINAL_LAI[~id_nans] = LAI"
      ],
      "metadata": {
        "id": "Bkuk7b4YVOkL"
      },
      "execution_count": null,
      "outputs": []
    },
    {
      "cell_type": "code",
      "source": [
        "np.max(NDVI)"
      ],
      "metadata": {
        "id": "vAxNzS91VQPD"
      },
      "execution_count": null,
      "outputs": []
    },
    {
      "cell_type": "code",
      "source": [
        "id = np.where(FINAL_LAI ==np.max(FINAL_LAI) )\n",
        "NDVI[id]\n",
        "np.max(FINAL_LAI)"
      ],
      "metadata": {
        "id": "Lt_AmgaUVRx9"
      },
      "execution_count": null,
      "outputs": []
    },
    {
      "cell_type": "code",
      "source": [
        "FINAL_LAI = np.reshape(FINAL_LAI , (dataset.RasterYSize , dataset.RasterXSize))"
      ],
      "metadata": {
        "id": "TcCRfMi_VTdb"
      },
      "execution_count": null,
      "outputs": []
    },
    {
      "cell_type": "code",
      "source": [
        "plt.imshow(FINAL_LAI)"
      ],
      "metadata": {
        "id": "gMUzYVztVVWr"
      },
      "execution_count": null,
      "outputs": []
    }
  ]
}