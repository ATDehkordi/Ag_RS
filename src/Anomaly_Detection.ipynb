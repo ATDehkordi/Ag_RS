{
  "nbformat": 4,
  "nbformat_minor": 0,
  "metadata": {
    "colab": {
      "name": "Anomaly Detection.ipynb",
      "provenance": [],
      "collapsed_sections": []
    },
    "kernelspec": {
      "name": "python3",
      "display_name": "Python 3"
    },
    "language_info": {
      "name": "python"
    }
  },
  "cells": [
    {
      "cell_type": "code",
      "execution_count": null,
      "metadata": {
        "id": "TmW4vud1WRiL"
      },
      "outputs": [],
      "source": [
        "anomaly_data = np.stack((NDVI , NDRE1 , NDRE2 , NDRE3 , MSAVI ,CCCI , NDWI) , axis = 2)"
      ]
    },
    {
      "cell_type": "code",
      "source": [
        "anomaly_data.shape"
      ],
      "metadata": {
        "id": "H7wOKldiWdAk"
      },
      "execution_count": null,
      "outputs": []
    },
    {
      "cell_type": "code",
      "source": [
        "anomaly_data_reshaped = np.reshape(anomaly_data , [anomaly_data.shape[0]*anomaly_data.shape[1], anomaly_data.shape[2]])\n",
        "anomaly_data_reshaped.shape"
      ],
      "metadata": {
        "id": "P-hKSNpPWdFz"
      },
      "execution_count": null,
      "outputs": []
    },
    {
      "cell_type": "code",
      "source": [
        "np.isnan(anomaly_data_reshaped)"
      ],
      "metadata": {
        "id": "bsmSdP9KWfds"
      },
      "execution_count": null,
      "outputs": []
    },
    {
      "cell_type": "code",
      "source": [
        "####### Anomaly Detection\n",
        "\n",
        "inputimg_r = anomaly_data_reshaped\n",
        "\n",
        "id_nans = np.isnan(inputimg_r[:,0])\n",
        "\n",
        "inputimg_r_nonans = inputimg_r[~id_nans, :]\n",
        "\n",
        "COVmatrix = np.cov(inputimg_r_nonans.T)\n",
        "invCOVmatrix = np.linalg.inv(COVmatrix)\n",
        "\n",
        "Meanvector = np.mean(inputimg_r_nonans, axis=0)\n",
        "\n",
        "RXdistances = np.zeros((inputimg_r_nonans.shape[0], 1))\n",
        "\n",
        "for i in range(inputimg_r_nonans.shape[0]):\n",
        "  # print(i)\n",
        "  r = inputimg_r_nonans[i,:].T\n",
        "  computedRX = np.matmul(np.matmul((r-Meanvector).T, invCOVmatrix), (r-Meanvector))\n",
        "  RXdistances[i,0] = computedRX"
      ],
      "metadata": {
        "id": "k0lGOYjLWi31"
      },
      "execution_count": null,
      "outputs": []
    },
    {
      "cell_type": "code",
      "source": [
        "import numpy as np\n",
        "mean = np.mean(RXdistances)\n",
        "std = np.std(RXdistances)"
      ],
      "metadata": {
        "id": "9bPEcg-WWkqL"
      },
      "execution_count": null,
      "outputs": []
    },
    {
      "cell_type": "code",
      "source": [
        "np.max(RXdistances)"
      ],
      "metadata": {
        "id": "WWcZ066KWoEr"
      },
      "execution_count": null,
      "outputs": []
    },
    {
      "cell_type": "code",
      "source": [
        "from scipy.stats import chi2\n",
        "\n",
        "nbands = inputimg_r.shape[-1]\n",
        "P = chi2.ppf(0.99, nbands)\n",
        "#P = mean + 2 * std\n",
        "finalanomalies = np.zeros_like(RXdistances)\n",
        "\n",
        "finalanomalies[np.where(RXdistances>P)[0], :]=1\n",
        "\n",
        "initialimage_r = anomaly_data_reshaped[:,0]\n",
        "initialimage_r[~id_nans] = np.squeeze(finalanomalies, axis=1)\n",
        "\n",
        "initialimage = np.reshape(initialimage_r, (dataset.RasterYSize, dataset.RasterXSize))"
      ],
      "metadata": {
        "id": "y0fUZFCWWp5S"
      },
      "execution_count": null,
      "outputs": []
    },
    {
      "cell_type": "code",
      "source": [
        "import pandas as pd\n",
        "from sklearn.svm import OneClassSVM\n",
        "import matplotlib.pyplot as plt\n",
        "from numpy import where\n",
        "data = inputimg_r_nonans\n",
        "model = OneClassSVM(kernel = 'rbf', gamma = 0.001, nu = 0.03).fit(data)\n",
        "y_pred = model.predict(data)\n",
        "\n",
        "finalanomalies = np.zeros_like(y_pred)\n",
        "\n",
        "finalanomalies[np.where(y_pred == -1)[0]]=1\n",
        "\n",
        "initialimage_r = anomaly_data_reshaped[:,0]\n",
        "initialimage_r[~id_nans] = (finalanomalies)\n",
        "\n",
        "initialimage = np.reshape(initialimage_r, (dataset.RasterYSize, dataset.RasterXSize))"
      ],
      "metadata": {
        "id": "dcYD5KOyWsfj"
      },
      "execution_count": null,
      "outputs": []
    },
    {
      "cell_type": "code",
      "source": [
        "y_pred.shape"
      ],
      "metadata": {
        "id": "gNpcJHqoWuQk"
      },
      "execution_count": null,
      "outputs": []
    },
    {
      "cell_type": "code",
      "source": [
        "image_kmeans = np.reshape(initialimage,(initialimage.shape[0] * initialimage.shape[1] , 1))\n",
        "id_nans = np.where(image_kmeans == 1)\n",
        "\n",
        "input_kmeans = anomaly_data_reshaped[id_nans[0], :]"
      ],
      "metadata": {
        "id": "rPYGMX5vWwGL"
      },
      "execution_count": null,
      "outputs": []
    },
    {
      "cell_type": "code",
      "source": [
        "input_kmeans.shape"
      ],
      "metadata": {
        "id": "joc6dR24WzZG"
      },
      "execution_count": null,
      "outputs": []
    },
    {
      "cell_type": "code",
      "source": [
        "from sklearn.cluster import KMeans\n",
        "kmeans = KMeans(n_clusters=2, random_state=0).fit(input_kmeans)"
      ],
      "metadata": {
        "id": "AAOboKuzW2VF"
      },
      "execution_count": null,
      "outputs": []
    },
    {
      "cell_type": "code",
      "source": [
        "kmeans.labels_\n",
        "\n",
        "initialimage_r[id_nans[0]] = kmeans.labels_ + 1\n",
        "initialimage = np.reshape(initialimage_r, (dataset.RasterYSize, dataset.RasterXSize))"
      ],
      "metadata": {
        "id": "zsGLfxbvW31b"
      },
      "execution_count": null,
      "outputs": []
    },
    {
      "cell_type": "code",
      "source": [
        "kmeans.labels_ "
      ],
      "metadata": {
        "id": "GxB1XMj1W5Zj"
      },
      "execution_count": null,
      "outputs": []
    },
    {
      "cell_type": "code",
      "source": [
        "plt.imshow(initialimage , cmap = 'jet')"
      ],
      "metadata": {
        "id": "IRP8E9k0W6_z"
      },
      "execution_count": null,
      "outputs": []
    },
    {
      "cell_type": "code",
      "source": [
        "plt.imshow(NDVI_DATA[0], cmap='jet')"
      ],
      "metadata": {
        "id": "7IXLFmQnW9Vj"
      },
      "execution_count": null,
      "outputs": []
    },
    {
      "cell_type": "code",
      "source": [
        "plt.imshow(NDVI_DATA[4], cmap='jet')"
      ],
      "metadata": {
        "id": "jL44lCj6W-1r"
      },
      "execution_count": null,
      "outputs": []
    }
  ]
}