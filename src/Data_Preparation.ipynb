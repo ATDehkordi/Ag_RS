{
  "nbformat": 4,
  "nbformat_minor": 0,
  "metadata": {
    "colab": {
      "name": "Data Preparation.ipynb",
      "provenance": [],
      "collapsed_sections": []
    },
    "kernelspec": {
      "name": "python3",
      "display_name": "Python 3"
    },
    "language_info": {
      "name": "python"
    }
  },
  "cells": [
    {
      "cell_type": "code",
      "execution_count": null,
      "metadata": {
        "id": "rGyQIQovUN8I"
      },
      "outputs": [],
      "source": [
        "\n",
        "#name of bands\n",
        "inBands = ee.List(['B1','B2','B3','B4','B5','B6','B7','B8','B8A','B9','B11','B12']);\n",
        "outBands = ee.List(['Aerosol','blue','green','red','re1','re2','re3','nir','re4','waterVapor','swir1','swir2']);\n",
        " \n",
        "CloudCoverMax = 20\n",
        "valid_percentage_value = 1\n",
        "#function to get the data\n",
        "def importData(studyArea,startDate,endDate):\n",
        " \n",
        "    # Get Sentinel-2 data\n",
        "    s2s =(ee.ImageCollection('COPERNICUS/S2_SR')\n",
        "          .filterDate(startDate,endDate)\n",
        "          .filterBounds(studyArea)\n",
        "          .filter(ee.Filter.lt('CLOUDY_PIXEL_PERCENTAGE',CloudCoverMax))\n",
        "          .filter(ee.Filter.lt('CLOUD_COVERAGE_ASSESSMENT',CloudCoverMax)))\n",
        "    \n",
        "    #sentinel bands are in scale of 0.0001\n",
        "    def scaleBands(img):\n",
        "        prop = img.toDictionary()\n",
        "        t = (img.select(['B1','B2','B3','B4','B5','B6','B7','B8','B8A','B9','B11','B12'])\n",
        "             .divide(10000))\n",
        "        t = (t.addBands(img.select(['QA60'])).set(prop)\n",
        "            .copyProperties(img,['system:time_start','system:footprint']))\n",
        "\n",
        "        return ee.Image(t)\n",
        "\n",
        "    def cloudpercentage_overregion(img):\n",
        "        qa = img.select('QA60').clip(studyArea)\n",
        "        cloudBitMask = 1024;\n",
        "        cirrusBitMask = 2056;\n",
        "        cloudmask = qa.bitwiseAnd(cloudBitMask).eq(0).bitwiseAnd(qa.bitwiseAnd(cirrusBitMask).eq(0));\n",
        "\n",
        "        nocloudpixels = img.select('B9').clip(studyArea).updateMask(cloudmask);\n",
        "\n",
        "        numofpixels = img.select('B9').clip(studyArea).reduceRegion(\n",
        "                  reducer= ee.Reducer.count(), \n",
        "                  geometry= studyArea, \n",
        "                  scale= 60,\n",
        "        );\n",
        "\n",
        "        validpixels = nocloudpixels.reduceRegion(\n",
        "              reducer= ee.Reducer.count(), \n",
        "              geometry= studyArea, \n",
        "              scale= 60,\n",
        "              );\n",
        "\n",
        "        valid_percentage = ee.Number(validpixels.get('B9')).divide(ee.Number(numofpixels.get('B9')))\n",
        "\n",
        "        return img.set('numofpixels', ee.Number(numofpixels.get('B9'))).set('validpixels', ee.Number(validpixels.get('B9'))).set('valid_percentage', ee.Number(valid_percentage))\n",
        "\n",
        "    def getimagedates(img):\n",
        "        return ee.Feature(None, {'date': img.date().format('YYYY-MM-dd')}) \n",
        "    \n",
        "    \n",
        "    s2s = s2s.map(cloudpercentage_overregion).filter(ee.Filter.eq('valid_percentage',valid_percentage_value))\n",
        "    valid_percentage = s2s.reduceColumns(ee.Reducer.toList(), [\"valid_percentage\"]).get('list')\n",
        "    dates = s2s.map(getimagedates).distinct('date').aggregate_array('date')\n",
        "    s2s = s2s.map(scaleBands)\n",
        "    s2s = s2s.select(inBands,outBands)\n",
        "    \n",
        "    return s2s, valid_percentage, dates"
      ]
    },
    {
      "cell_type": "code",
      "source": [
        "def clp(img) :\n",
        "  return img.clip(studyArea).toFloat()"
      ],
      "metadata": {
        "id": "u_awY7HZUXcV"
      },
      "execution_count": null,
      "outputs": []
    },
    {
      "cell_type": "code",
      "source": [
        "year1,month1,day1= [ int(x) for x in input('enter your first date').split(',')]\n",
        "year2,month2,day2= [ int(x) for x in input('enter your second date').split(',')]\n",
        "\n",
        "startDate = ee.Date.fromYMD(year1,month1,day1)\n",
        "endDate = ee.Date.fromYMD(year2,month2,day2)\n",
        "studyArea = roi\n",
        "#gee assets to get the study area\n",
        "print(\"Getting images\") \n",
        "img, valid_percentage, dates = importData(studyArea, startDate,endDate)"
      ],
      "metadata": {
        "id": "LMpc0toWUZ1L"
      },
      "execution_count": null,
      "outputs": []
    },
    {
      "cell_type": "code",
      "source": [
        "dates.getInfo()"
      ],
      "metadata": {
        "id": "iY1ydpzVUbmb"
      },
      "execution_count": null,
      "outputs": []
    },
    {
      "cell_type": "code",
      "source": [
        "imgclipped = img.map(clp)"
      ],
      "metadata": {
        "id": "Ci6d83p2UdSz"
      },
      "execution_count": null,
      "outputs": []
    },
    {
      "cell_type": "code",
      "source": [
        "count = img.size()\n",
        "range = img.reduceColumns(ee.Reducer.minMax(), [\"system:time_start\"])\n",
        "print('Date range: ', ee.Date(range.get('min')), ee.Date(range.get('max')))"
      ],
      "metadata": {
        "id": "IulLX9pHUfLK"
      },
      "execution_count": null,
      "outputs": []
    },
    {
      "cell_type": "code",
      "source": [
        "geemap.ee_export_image_collection(imgclipped,scale = 10, out_dir=\"/content/drive/Shareddrives/My Drive2/colab_agriculture\",region = studyArea)"
      ],
      "metadata": {
        "id": "BLdonwqfUhUL"
      },
      "execution_count": null,
      "outputs": []
    }
  ]
}